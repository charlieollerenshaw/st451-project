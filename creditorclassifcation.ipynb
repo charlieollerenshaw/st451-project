{
 "cells": [
  {
   "cell_type": "markdown",
   "id": "d7aba475",
   "metadata": {},
   "source": [
    "## Classification of 'good / bad' creditors"
   ]
  },
  {
   "cell_type": "code",
   "execution_count": 63,
   "id": "7f8ef006",
   "metadata": {},
   "outputs": [],
   "source": [
    "import pandas as pd\n",
    "import numpy as np\n",
    "from scipy import optimize\n",
    "import scipy as sc\n",
    "from sklearn.discriminant_analysis import LinearDiscriminantAnalysis\n",
    "from sklearn.model_selection import train_test_split\n",
    "from sklearn.linear_model import LogisticRegression\n",
    "import matplotlib.pyplot as plt #for plots\n",
    "%matplotlib inline\n",
    "from sklearn.metrics import accuracy_score, log_loss, roc_curve, roc_auc_score \n",
    "import statsmodels.api as sm\n",
    "from sklearn.naive_bayes import BernoulliNB\n",
    "from sklearn.gaussian_process import GaussianProcessClassifier\n",
    "from sklearn.gaussian_process.kernels import RBF, ExpSineSquared, RationalQuadratic, WhiteKernel\n",
    "from sklearn.preprocessing import StandardScaler\n",
    "from sklearn.svm import SVC"
   ]
  },
  {
   "cell_type": "code",
   "execution_count": 64,
   "id": "0187f84d",
   "metadata": {},
   "outputs": [
    {
     "name": "stderr",
     "output_type": "stream",
     "text": [
      "<>:14: SyntaxWarning: invalid escape sequence '\\s'\n",
      "<>:14: SyntaxWarning: invalid escape sequence '\\s'\n",
      "C:\\Users\\colle\\AppData\\Local\\Temp\\ipykernel_27860\\1171540982.py:14: SyntaxWarning: invalid escape sequence '\\s'\n",
      "  sep='\\s+',\n"
     ]
    }
   ],
   "source": [
    "# Define column names (since the file has no headers)\n",
    "column_names = [\n",
    "    'existing_checking', 'duration', 'credit_history', 'purpose', 'credit_amount', # Explanatory Variables\n",
    "    'savings_account', 'employment', 'installment_rate', 'personal_status_sex',\n",
    "    'other_debtors', 'present_residence', 'property', 'age', 'other_installment_plans',\n",
    "    'housing', 'existing_credits', 'job', 'num_dependents', 'own_telephone', 'foreign_worker', \n",
    "    'class'  # Target variable (1=Good, 2=Bad)\n",
    "]\n",
    "\n",
    "# Load the data (space-separated)\n",
    "df = pd.read_csv(\n",
    "    'german.data-numeric',  # Replace with your file path\n",
    "    #delim_whitespace=True,  # Reads space-separated values\n",
    "    sep='\\s+',\n",
    "    header=None,           # No header row\n",
    "    names=column_names     # Assign column names\n",
    ")\n",
    "\n",
    "# Convert target 'class' to binary (1=Good, 0=Bad)\n",
    "df['class'] = df['class'].replace({1: 1, 2: 0})  # 1=Good, 0=Bad credit risk"
   ]
  },
  {
   "cell_type": "code",
   "execution_count": 65,
   "id": "7d3c307f",
   "metadata": {},
   "outputs": [],
   "source": [
    "# define data and create train test splits\n",
    "n = len(df['class'])\n",
    "df['x0'] = np.ones(n)\n",
    "predictors = ['x0','existing_checking', 'duration', 'credit_history', 'purpose', 'credit_amount',\n",
    "              'savings_account', 'employment', 'installment_rate', 'personal_status_sex',\n",
    "              'other_debtors', 'present_residence', 'property', 'age', 'other_installment_plans',\n",
    "              'housing', 'existing_credits', 'job', 'num_dependents', 'own_telephone','foreign_worker']\n",
    "target = ['class']\n",
    "X_train, X_test, y_train, y_test = train_test_split(df[predictors], df[target],\n",
    "                        test_size=0.33, random_state=42)\n",
    "n,p = X_train.shape"
   ]
  },
  {
   "cell_type": "markdown",
   "id": "2e7db51e",
   "metadata": {},
   "source": [
    "As instructed by the data source, we penalise classifying a bad risk as good five times more than classifying a good risk as bad. For this purpose, we write a function which will carry out this evaluation. \n",
    "\n",
    "It is important to note that this criterion means that higher accuracy is not necessarily preferable and we are more focused on reducing the false positive rate than predicting each risk accurately."
   ]
  },
  {
   "cell_type": "code",
   "execution_count": 66,
   "id": "be2faa20",
   "metadata": {},
   "outputs": [],
   "source": [
    "def my_prediction_score(pred, test):\n",
    "    \"\"\"\n",
    "    Scoring rule where:\n",
    "    - pred=0 & test=1 adds 1 to score\n",
    "    - pred=1 & test=0 adds 5 to score\n",
    "    - Correct predictions add 0\n",
    "    \n",
    "    Returns: Final score normalized by length of test data\n",
    "    \"\"\"\n",
    "    pred = np.array(pred).flatten()\n",
    "    test = np.array(test).flatten()\n",
    "    \n",
    "    score = 0\n",
    "    \n",
    "    # Find false positives & negatives\n",
    "    false_negatives = np.sum((pred == 0) & (test == 1))  # pred=0, test=1\n",
    "    false_positives = np.sum((pred == 1) & (test == 0))  # pred=1, test=0\n",
    "    \n",
    "    score = (false_negatives * 1) + (false_positives * 5)\n",
    "    \n",
    "    # Normalise by number of samples\n",
    "    normalised_score = score / len(test)\n",
    "    \n",
    "    return normalised_score # This is the error score per prediction"
   ]
  },
  {
   "cell_type": "markdown",
   "id": "64d07d74",
   "metadata": {},
   "source": [
    "When using a classification model, the decision threshold determines the point at which we classify an observation as positive or negative.\n",
    "\n",
    "We are given the following cost structure:\n",
    "\n",
    "- **False Positive Cost (FP):** 5 units  \n",
    "- **False Negative Cost (FN):** 1 unit\n",
    "- **Correct Prediction:** 0 units\n",
    "\n",
    "We want to choose the threshold that **minimizes the expected cost** of classification errors.\n",
    "\n",
    "Under the assumption of equal class priors, the optimal threshold $\\theta^*$ is given by:\n",
    "\n",
    "$$\n",
    "\\theta^* = \\frac{\\text{Cost}_{\\text{FN}}}{\\text{Cost}_{\\text{FP}} + \\text{Cost}_{\\text{FN}}}\n",
    "$$\n",
    "\n",
    "Substituting in the values:\n",
    "\n",
    "$$\n",
    "\\theta^* = \\frac{1}{5 + 1} = \\frac{1}{6}\n",
    "$$\n",
    "\n",
    "Since this represents the threshold **below which we predict negative**, the optimal classification threshold for predicting the **positive class** is:\n",
    "\n",
    "$$\n",
    "1 - \\theta^* = \\frac{5}{6} \\approx 0.833\n",
    "$$\n",
    "\n",
    "Therefore to minimize the total cost when **false positives are 5 times more expensive** than false negatives, we should only predict the positive class when the predicted probability is at least:\n",
    "\n",
    "$$\n",
    "\\boxed{0.833}\n",
    "$$\n"
   ]
  },
  {
   "cell_type": "markdown",
   "id": "a6ad7bdb",
   "metadata": {},
   "source": [
    "Training logistic regression model using maximum likelihood estimation:"
   ]
  },
  {
   "cell_type": "code",
   "execution_count": 67,
   "id": "b8f0596b",
   "metadata": {},
   "outputs": [
    {
     "name": "stdout",
     "output_type": "stream",
     "text": [
      "Optimization terminated successfully.\n",
      "         Current function value: 0.540151\n",
      "         Iterations 6\n",
      "AIC: 765.8025764934213\n"
     ]
    }
   ],
   "source": [
    "Xt = np.asarray(X_train[predictors])\n",
    "yt = np.asarray(y_train['class'])\n",
    "\n",
    "model = sm.Logit(yt, Xt).fit()\n",
    "model.summary()\n",
    "print(\"AIC:\", model.aic)"
   ]
  },
  {
   "cell_type": "markdown",
   "id": "de6a5f88",
   "metadata": {},
   "source": [
    "Logistic regression with ridge regularisation:"
   ]
  },
  {
   "cell_type": "code",
   "execution_count": 68,
   "id": "a843182b",
   "metadata": {},
   "outputs": [
    {
     "name": "stdout",
     "output_type": "stream",
     "text": [
      "Optimization terminated successfully    (Exit mode 0)\n",
      "            Current function value: 0.5505018242454086\n",
      "            Iterations: 119\n",
      "            Function evaluations: 123\n",
      "            Gradient evaluations: 119\n",
      "AIC: 757.7669416307989\n"
     ]
    }
   ],
   "source": [
    "model_ridge = sm.Logit(yt, Xt).fit_regularized(alpha=0.92) # Regularisation parameter chosen based on AIC\n",
    "model_ridge.summary()\n",
    "print(\"AIC:\", model_ridge.aic)"
   ]
  },
  {
   "cell_type": "markdown",
   "id": "501465d5",
   "metadata": {},
   "source": [
    "Higher AIC seems to imply that we're betting off without regularisation."
   ]
  },
  {
   "cell_type": "code",
   "execution_count": 69,
   "id": "d879c452",
   "metadata": {},
   "outputs": [
    {
     "name": "stdout",
     "output_type": "stream",
     "text": [
      "Logistic Regression (MLE): \n",
      "Accuracy: 0.4909090909090909\n",
      "Custom Error Score: 0.6181818181818182\n",
      "\n",
      "Logistic Regression (Ridge): \n",
      "Accuracy: 0.4666666666666667\n",
      "Custom Error Score: 0.6545454545454545\n"
     ]
    }
   ],
   "source": [
    "threshold = 5/6 # Optimal threshold when we penalise false positives five times as much as false negatives\n",
    "\n",
    "# Predict probabilities\n",
    "logit_pred_prob = model.predict(X_test)\n",
    "\n",
    "# Convert to class predictions (threshold=0.833)\n",
    "logit_pred = np.where(logit_pred_prob >= threshold, 1, 0)\n",
    "\n",
    "# Evaluate\n",
    "print(\"Logistic Regression (MLE): \\nAccuracy:\", accuracy_score(y_test, logit_pred)) # Higher accuracy is better\n",
    "print(\"Custom Error Score:\", my_prediction_score(logit_pred,y_test)) # Lower prediction score is better\n",
    "\n",
    "# Predict probabilities\n",
    "ridge_pred_prob = model_ridge.predict(X_test)\n",
    "\n",
    "# Convert to class predictions (threshold=0.833)\n",
    "ridge_pred = np.where(ridge_pred_prob >= threshold, 1, 0)\n",
    "\n",
    "# Evaluate\n",
    "print(\"\\nLogistic Regression (Ridge): \\nAccuracy:\", accuracy_score(y_test, ridge_pred)) # Higher accuracy is better\n",
    "print(\"Custom Error Score:\", my_prediction_score(ridge_pred,y_test)) # Lower prediction score is better"
   ]
  },
  {
   "cell_type": "code",
   "execution_count": 70,
   "id": "355e8fab",
   "metadata": {},
   "outputs": [
    {
     "data": {
      "image/png": "[encoded data removed]",
      "text/plain": [
       "<Figure size 800x600 with 1 Axes>"
      ]
     },
     "metadata": {},
     "output_type": "display_data"
    }
   ],
   "source": [
    "from sklearn.metrics import roc_curve, auc\n",
    "import matplotlib.pyplot as plt\n",
    "\n",
    "# Compute ROC curve\n",
    "fpr, tpr, thresholds = roc_curve(y_test, logit_pred_prob)\n",
    "roc_auc = auc(fpr, tpr)\n",
    "\n",
    "# Plot\n",
    "plt.figure(figsize=(8, 6))\n",
    "plt.plot(fpr, tpr, color='darkorange', lw=2, label=f'ROC (AUC = {roc_auc:.2f})')\n",
    "plt.plot([0, 1], [0, 1], linestyle='--', color='navy', label='Random Guess')\n",
    "plt.xlabel('False Positive Rate')\n",
    "plt.ylabel('True Positive Rate')\n",
    "plt.title('ROC Curve for Logistic Regression')\n",
    "plt.legend()\n",
    "plt.show()"
   ]
  },
  {
   "cell_type": "markdown",
   "id": "b8a04eca",
   "metadata": {},
   "source": [
    "## Bayesian Logistic Regression:"
   ]
  },
  {
   "cell_type": "code",
   "execution_count": 71,
   "id": "10af05fd",
   "metadata": {},
   "outputs": [],
   "source": [
    "## Bayesian Logistic Regression code taken from week 3 workshop:\n",
    "\n",
    "# Sigma function is the inverse logstic function\n",
    "def sigma(x,beta):\n",
    "    xbeta = x.dot(beta)\n",
    "    d = 1. + np.exp(-xbeta)\n",
    "    return d**(-1)\n",
    "# Function for negative log-likelihood of logistic regression\n",
    "def nll(beta, x, y):\n",
    "    t = y.T.dot(np.log(sigma(x,beta)))+ (1-y).T.dot(np.log(1.-sigma(x,beta)))\n",
    "    return -t\n",
    "# Functions for implementing Bayesian Logistic Regression in Python\n",
    "def neg_post(beta, x, y, m0, S0):\n",
    "    logprior =  - .5* (beta-m0).T @ S0 @ (beta-m0)\n",
    "    return  nll(beta, x, y) -  logprior\n",
    "def neg_post_prime(beta, x, y, m0, S0):\n",
    "    return  x.T.dot(sigma(x,beta)-y)+S0.dot(beta-m0)\n",
    "def laplace_prec(beta, x, S0):\n",
    "    n = x.shape[0]  \n",
    "    S = np.diag(sigma(x,beta)*(1-sigma(x,beta)))\n",
    "    prec = S0.values + x.T.dot(S.dot(x))    \n",
    "    return prec\n",
    "def NewtonRaphsonBayesLogReg(beta0,x,y,m0,S0,maxiter,tolerance):\n",
    "    i = 0\n",
    "    beta = beta0\n",
    "    NegLogPost = neg_post(beta, x, y, m0, S0)\n",
    "    AbDiff = 1; #anything bigger than tolerance would do here\n",
    "    while (AbDiff> tolerance) & (i<maxiter):\n",
    "        i =i+1;\n",
    "        print('iteration ',i,' Negative Log Posterior ',NegLogPost, ' AbDiff ', AbDiff)\n",
    "        grad = neg_post_prime(beta, x, y, m0, S0)\n",
    "        H = laplace_prec(beta, x, S0)\n",
    "        H_inv = sc.linalg.inv(H) \n",
    "        beta = beta - H_inv.dot(grad)\n",
    "        NegLogPost_new = neg_post(beta, x, y, m0, S0)\n",
    "        AbDiff = np.abs(NegLogPost_new-NegLogPost)\n",
    "        NegLogPost = NegLogPost_new\n",
    "    if (iter == maxiter):\n",
    "        print('Did not Converge') \n",
    "    return beta, H_inv"
   ]
  },
  {
   "cell_type": "code",
   "execution_count": 72,
   "id": "0e4910b8",
   "metadata": {},
   "outputs": [
    {
     "name": "stdout",
     "output_type": "stream",
     "text": [
      "iteration  1  Negative Log Posterior  464.40861097516336  AbDiff  1\n",
      "iteration  2  Negative Log Posterior  367.38389867284366  AbDiff  97.0247123023197\n",
      "iteration  3  Negative Log Posterior  362.93280742985837  AbDiff  4.451091242985285\n",
      "iteration  4  Negative Log Posterior  362.8389568668505  AbDiff  0.09385056300789074\n",
      "iteration  5  Negative Log Posterior  362.8388833062475  AbDiff  7.356060297070144e-05\n"
     ]
    },
    {
     "data": {
      "text/html": [
       "<div>\n",
       "<style scoped>\n",
       "    .dataframe tbody tr th:only-of-type {\n",
       "        vertical-align: middle;\n",
       "    }\n",
       "\n",
       "    .dataframe tbody tr th {\n",
       "        vertical-align: top;\n",
       "    }\n",
       "\n",
       "    .dataframe thead th {\n",
       "        text-align: right;\n",
       "    }\n",
       "</style>\n",
       "<table border=\"1\" class=\"dataframe\">\n",
       "  <thead>\n",
       "    <tr style=\"text-align: right;\">\n",
       "      <th></th>\n",
       "      <th>Posterior mean</th>\n",
       "      <th>Posterior se</th>\n",
       "      <th>Lower 95% bound</th>\n",
       "      <th>Upper 95% bound</th>\n",
       "    </tr>\n",
       "  </thead>\n",
       "  <tbody>\n",
       "    <tr>\n",
       "      <th>intercept</th>\n",
       "      <td>-3.673639</td>\n",
       "      <td>1.221265</td>\n",
       "      <td>-6.067318</td>\n",
       "      <td>-1.279961</td>\n",
       "    </tr>\n",
       "    <tr>\n",
       "      <th>existing_checking</th>\n",
       "      <td>0.202129</td>\n",
       "      <td>0.064047</td>\n",
       "      <td>0.076598</td>\n",
       "      <td>0.327661</td>\n",
       "    </tr>\n",
       "    <tr>\n",
       "      <th>duration</th>\n",
       "      <td>0.150982</td>\n",
       "      <td>0.084644</td>\n",
       "      <td>-0.014921</td>\n",
       "      <td>0.316885</td>\n",
       "    </tr>\n",
       "    <tr>\n",
       "      <th>credit_history</th>\n",
       "      <td>0.193599</td>\n",
       "      <td>0.132301</td>\n",
       "      <td>-0.065710</td>\n",
       "      <td>0.452908</td>\n",
       "    </tr>\n",
       "    <tr>\n",
       "      <th>purpose</th>\n",
       "      <td>-0.018166</td>\n",
       "      <td>0.092181</td>\n",
       "      <td>-0.198842</td>\n",
       "      <td>0.162510</td>\n",
       "    </tr>\n",
       "    <tr>\n",
       "      <th>credit_amount</th>\n",
       "      <td>-0.256215</td>\n",
       "      <td>0.109466</td>\n",
       "      <td>-0.470769</td>\n",
       "      <td>-0.041661</td>\n",
       "    </tr>\n",
       "    <tr>\n",
       "      <th>savings_account</th>\n",
       "      <td>0.036419</td>\n",
       "      <td>0.010298</td>\n",
       "      <td>0.016235</td>\n",
       "      <td>0.056602</td>\n",
       "    </tr>\n",
       "    <tr>\n",
       "      <th>employment</th>\n",
       "      <td>0.277515</td>\n",
       "      <td>0.127451</td>\n",
       "      <td>0.027712</td>\n",
       "      <td>0.527319</td>\n",
       "    </tr>\n",
       "    <tr>\n",
       "      <th>installment_rate</th>\n",
       "      <td>0.120656</td>\n",
       "      <td>0.163571</td>\n",
       "      <td>-0.199943</td>\n",
       "      <td>0.441256</td>\n",
       "    </tr>\n",
       "    <tr>\n",
       "      <th>personal_status_sex</th>\n",
       "      <td>-0.218475</td>\n",
       "      <td>0.279431</td>\n",
       "      <td>-0.766160</td>\n",
       "      <td>0.329209</td>\n",
       "    </tr>\n",
       "    <tr>\n",
       "      <th>other_debtors</th>\n",
       "      <td>0.149036</td>\n",
       "      <td>0.208362</td>\n",
       "      <td>-0.259354</td>\n",
       "      <td>0.557426</td>\n",
       "    </tr>\n",
       "    <tr>\n",
       "      <th>present_residence</th>\n",
       "      <td>1.128138</td>\n",
       "      <td>0.634800</td>\n",
       "      <td>-0.116070</td>\n",
       "      <td>2.372347</td>\n",
       "    </tr>\n",
       "    <tr>\n",
       "      <th>property</th>\n",
       "      <td>-0.703962</td>\n",
       "      <td>0.212159</td>\n",
       "      <td>-1.119793</td>\n",
       "      <td>-0.288131</td>\n",
       "    </tr>\n",
       "    <tr>\n",
       "      <th>age</th>\n",
       "      <td>0.622761</td>\n",
       "      <td>0.356164</td>\n",
       "      <td>-0.075321</td>\n",
       "      <td>1.320843</td>\n",
       "    </tr>\n",
       "    <tr>\n",
       "      <th>other_installment_plans</th>\n",
       "      <td>-0.141359</td>\n",
       "      <td>0.431039</td>\n",
       "      <td>-0.986195</td>\n",
       "      <td>0.703478</td>\n",
       "    </tr>\n",
       "    <tr>\n",
       "      <th>housing</th>\n",
       "      <td>-0.306524</td>\n",
       "      <td>0.598811</td>\n",
       "      <td>-1.480195</td>\n",
       "      <td>0.867146</td>\n",
       "    </tr>\n",
       "    <tr>\n",
       "      <th>existing_credits</th>\n",
       "      <td>0.354929</td>\n",
       "      <td>0.397652</td>\n",
       "      <td>-0.424468</td>\n",
       "      <td>1.134327</td>\n",
       "    </tr>\n",
       "    <tr>\n",
       "      <th>job</th>\n",
       "      <td>0.789207</td>\n",
       "      <td>0.351730</td>\n",
       "      <td>0.099816</td>\n",
       "      <td>1.478598</td>\n",
       "    </tr>\n",
       "    <tr>\n",
       "      <th>num_dependents</th>\n",
       "      <td>0.407186</td>\n",
       "      <td>0.667296</td>\n",
       "      <td>-0.900714</td>\n",
       "      <td>1.715086</td>\n",
       "    </tr>\n",
       "    <tr>\n",
       "      <th>own_telephone</th>\n",
       "      <td>0.230040</td>\n",
       "      <td>0.357119</td>\n",
       "      <td>-0.469914</td>\n",
       "      <td>0.929994</td>\n",
       "    </tr>\n",
       "    <tr>\n",
       "      <th>foreign_worker</th>\n",
       "      <td>0.161803</td>\n",
       "      <td>0.277703</td>\n",
       "      <td>-0.382495</td>\n",
       "      <td>0.706100</td>\n",
       "    </tr>\n",
       "  </tbody>\n",
       "</table>\n",
       "</div>"
      ],
      "text/plain": [
       "                         Posterior mean  Posterior se  Lower 95% bound  \\\n",
       "intercept                     -3.673639      1.221265        -6.067318   \n",
       "existing_checking              0.202129      0.064047         0.076598   \n",
       "duration                       0.150982      0.084644        -0.014921   \n",
       "credit_history                 0.193599      0.132301        -0.065710   \n",
       "purpose                       -0.018166      0.092181        -0.198842   \n",
       "credit_amount                 -0.256215      0.109466        -0.470769   \n",
       "savings_account                0.036419      0.010298         0.016235   \n",
       "employment                     0.277515      0.127451         0.027712   \n",
       "installment_rate               0.120656      0.163571        -0.199943   \n",
       "personal_status_sex           -0.218475      0.279431        -0.766160   \n",
       "other_debtors                  0.149036      0.208362        -0.259354   \n",
       "present_residence              1.128138      0.634800        -0.116070   \n",
       "property                      -0.703962      0.212159        -1.119793   \n",
       "age                            0.622761      0.356164        -0.075321   \n",
       "other_installment_plans       -0.141359      0.431039        -0.986195   \n",
       "housing                       -0.306524      0.598811        -1.480195   \n",
       "existing_credits               0.354929      0.397652        -0.424468   \n",
       "job                            0.789207      0.351730         0.099816   \n",
       "num_dependents                 0.407186      0.667296        -0.900714   \n",
       "own_telephone                  0.230040      0.357119        -0.469914   \n",
       "foreign_worker                 0.161803      0.277703        -0.382495   \n",
       "\n",
       "                         Upper 95% bound  \n",
       "intercept                      -1.279961  \n",
       "existing_checking               0.327661  \n",
       "duration                        0.316885  \n",
       "credit_history                  0.452908  \n",
       "purpose                         0.162510  \n",
       "credit_amount                  -0.041661  \n",
       "savings_account                 0.056602  \n",
       "employment                      0.527319  \n",
       "installment_rate                0.441256  \n",
       "personal_status_sex             0.329209  \n",
       "other_debtors                   0.557426  \n",
       "present_residence               2.372347  \n",
       "property                       -0.288131  \n",
       "age                             1.320843  \n",
       "other_installment_plans         0.703478  \n",
       "housing                         0.867146  \n",
       "existing_credits                1.134327  \n",
       "job                             1.478598  \n",
       "num_dependents                  1.715086  \n",
       "own_telephone                   0.929994  \n",
       "foreign_worker                  0.706100  "
      ]
     },
     "execution_count": 72,
     "metadata": {},
     "output_type": "execute_result"
    }
   ],
   "source": [
    "Xt = X_train[predictors]\n",
    "n,p = Xt.shape\n",
    "m0 = np.zeros(p)\n",
    "S0 = Xt.T.dot(Xt)/n\n",
    "beta0 = np.zeros(p)\n",
    "tolerance = 1e-05\n",
    "maxiter = 100 \n",
    "beta_map, cov = NewtonRaphsonBayesLogReg(beta0,Xt, y_train['class'],\n",
    "                                                  m0,S0,maxiter,tolerance)\n",
    "#95% credible intervals\n",
    "se = np.sqrt(np.diag(cov))\n",
    "lower95 = beta_map - 1.96*se\n",
    "upper95 = beta_map + 1.96*se\n",
    "\n",
    "#present the output via a pandas data frame\n",
    "results = np.column_stack([beta_map,se,lower95,upper95])\n",
    "col = ['Posterior mean','Posterior se','Lower 95% bound','Upper 95% bound']\n",
    "ind = ['intercept','existing_checking', 'duration', 'credit_history', 'purpose', 'credit_amount',\n",
    "       'savings_account', 'employment', 'installment_rate', 'personal_status_sex',\n",
    "       'other_debtors', 'present_residence', 'property', 'age', 'other_installment_plans',\n",
    "       'housing', 'existing_credits', 'job', 'num_dependents', 'own_telephone','foreign_worker']\n",
    "results = pd.DataFrame(results,columns = col,index=ind)\n",
    "results"
   ]
  },
  {
   "cell_type": "code",
   "execution_count": 73,
   "id": "ae5f4c22",
   "metadata": {},
   "outputs": [
    {
     "name": "stdout",
     "output_type": "stream",
     "text": [
      "Bayesian Logistic Regression: \n",
      "Accuracy: 0.47878787878787876\n",
      "Custom Error Score: 0.6303030303030303\n"
     ]
    }
   ],
   "source": [
    "#Calculate the prediction probabilities with Bayesian Logistic regression\n",
    "N = 10000 #number of Monte Carlo samples\n",
    "\n",
    "# draw N samples from the approximate posterior (Laplace) of beta\n",
    "betas = np.random.multivariate_normal(beta_map,cov,N)\n",
    "Xbetas = X_test[predictors].dot(betas.T)\n",
    "#apply sigmoid\n",
    "d = 1/(1. + np.exp(-Xbetas))\n",
    "pred_prob_blr = np.mean(d, axis=1)\n",
    "blr_pred = (pred_prob_blr > threshold)\n",
    "\n",
    "# Evaluate\n",
    "print(\"Bayesian Logistic Regression: \\nAccuracy:\", accuracy_score(y_test, blr_pred)) # Higher accuracy is better\n",
    "print(\"Custom Error Score:\", my_prediction_score(blr_pred,y_test)) # Lower prediction score is better"
   ]
  },
  {
   "cell_type": "markdown",
   "id": "800bc096",
   "metadata": {},
   "source": [
    "## Linear Discriminant Analysis"
   ]
  },
  {
   "cell_type": "code",
   "execution_count": 74,
   "id": "92abd9e1",
   "metadata": {},
   "outputs": [
    {
     "name": "stdout",
     "output_type": "stream",
     "text": [
      "\n",
      "Linear Discriminant Analysis: \n",
      "Accuracy: 0.48787878787878786\n",
      "Custom Error Score: 0.6212121212121212\n"
     ]
    }
   ],
   "source": [
    "y_tr=np.ravel(y_train)\n",
    "y_te=np.ravel(y_test)\n",
    "clf = LinearDiscriminantAnalysis(solver='lsqr',store_covariance=True) # Define model\n",
    "clf.fit(X_train, y_tr) # Train model\n",
    "clf.means_, clf.priors_, clf.covariance_\n",
    "\n",
    "lda_pred_prob = clf.predict_proba(X_test) # Predict probabilities\n",
    "lda_pred_prob = lda_pred_prob[:,1]\n",
    "lda_pred = np.where(lda_pred_prob >= threshold, 1, 0)\n",
    "\n",
    "# Evaluate\n",
    "print(\"\\nLinear Discriminant Analysis: \\nAccuracy:\", accuracy_score(y_test, lda_pred)) # Higher accuracy is better\n",
    "print(\"Custom Error Score:\", my_prediction_score(lda_pred,y_test)) # Lower prediction score is better"
   ]
  },
  {
   "cell_type": "markdown",
   "id": "3f406a5d",
   "metadata": {},
   "source": [
    "## Naive Bayes Classifier:"
   ]
  },
  {
   "cell_type": "code",
   "execution_count": 75,
   "id": "5c4446c4",
   "metadata": {},
   "outputs": [
    {
     "name": "stdout",
     "output_type": "stream",
     "text": [
      "Naive Bayes Classifier:\n",
      "Accuracy: 0.35454545454545455\n",
      "Custom Error Score: 0.6454545454545455\n"
     ]
    }
   ],
   "source": [
    "\n",
    "from sklearn.model_selection import train_test_split\n",
    "from sklearn.metrics import accuracy_score\n",
    "\n",
    "# Define the model\n",
    "nb_model = BernoulliNB()\n",
    "\n",
    "# Train the model\n",
    "nb_model.fit(X_train, np.array(y_train).flatten())\n",
    "\n",
    "# Make predictions\n",
    "nb_pred_prob = nb_model.predict_proba(X_test)[:, 1]\n",
    "nb_pred = np.where(nb_pred_prob >= threshold, 1, 0)\n",
    "\n",
    "# Evaluate\n",
    "print(\"Naive Bayes Classifier:\\nAccuracy:\", accuracy_score(y_test, nb_pred))\n",
    "print(\"Custom Error Score:\", my_prediction_score(nb_pred,y_test)) # Lower prediction score is better"
   ]
  },
  {
   "cell_type": "markdown",
   "id": "8bf789a9",
   "metadata": {},
   "source": [
    "## Gaussian Process Classifier & Support Vector Classifier"
   ]
  },
  {
   "cell_type": "code",
   "execution_count": 76,
   "id": "e2eaa013",
   "metadata": {},
   "outputs": [
    {
     "name": "stdout",
     "output_type": "stream",
     "text": [
      "Gaussian Proccess Classifier:\n",
      "Accuracy: 0.30606060606060603\n",
      "Custom Error Score: 0.693939393939394\n"
     ]
    }
   ],
   "source": [
    "# Standardize the features\n",
    "scaler = StandardScaler()\n",
    "X_train_standardized = scaler.fit_transform(X_train)\n",
    "X_test_standardized = scaler.transform(X_test)\n",
    "\n",
    "# Define the kernel\n",
    "kernel = 1.0**2 * RBF(length_scale=1.5) # RBF kernel\n",
    "\n",
    "# Create the Gaussian process classifier\n",
    "gp = GaussianProcessClassifier(kernel=kernel)\n",
    "\n",
    "# Fit the model to the training data\n",
    "gp.fit(X_train_standardized, np.array(y_train).flatten())\n",
    "\n",
    "# Predict probabilities\n",
    "gp_pred_probs = gp.predict_proba(X_test_standardized)[:, 1]  # Probabilities for class 1\n",
    "gp_pred = np.where(gp_pred_probs >= threshold, 1, 0)\n",
    "# Evaluate\n",
    "print(\"Gaussian Proccess Classifier:\\nAccuracy:\", accuracy_score(y_test, gp_pred))\n",
    "print(\"Custom Error Score:\", my_prediction_score(gp_pred,y_test)) # Lower prediction score is better"
   ]
  },
  {
   "cell_type": "code",
   "execution_count": 77,
   "id": "20b25f49",
   "metadata": {},
   "outputs": [
    {
     "name": "stdout",
     "output_type": "stream",
     "text": [
      "Support Vector Classifier:\n",
      "Accuracy: 0.30303030303030304\n",
      "Custom Error Score: 0.7090909090909091\n"
     ]
    }
   ],
   "source": [
    "scaler = StandardScaler()\n",
    "X_train_std = scaler.fit_transform(X_train)\n",
    "X_test_std = scaler.transform(X_test)\n",
    "\n",
    "# Create SVM model with probability support\n",
    "svm_model = SVC(kernel='rbf', C=0.01, probability=True)\n",
    "svm_model.fit(X_train_std, np.array(y_train).flatten())\n",
    "\n",
    "# Get predicted probabilities\n",
    "svm_pred_probs = svm_model.predict_proba(X_test_std)[:, 1]\n",
    "svm_pred = np.where(svm_pred_probs >= threshold, 1, 0)\n",
    "# Evaluate\n",
    "print(\"Support Vector Classifier:\\nAccuracy:\", accuracy_score(y_test, svm_pred))\n",
    "print(\"Custom Error Score:\", my_prediction_score(svm_pred,y_test)) # Lower prediction score is better"
   ]
  },
  {
   "cell_type": "markdown",
   "id": "e8833a19",
   "metadata": {},
   "source": [
    "Just for comparison, a dummy classifier which classifies as 'good' at the mean rate, regardless of attributes:"
   ]
  },
  {
   "cell_type": "code",
   "execution_count": 78,
   "id": "cbf9ce7f",
   "metadata": {},
   "outputs": [
    {
     "name": "stdout",
     "output_type": "stream",
     "text": [
      "Mean Predictor:\n",
      "Accuracy: 0.603030303030303\n",
      "Custom Error Score: 1.209090909090909\n"
     ]
    }
   ],
   "source": [
    "np.mean(y_train)\n",
    "dummy_pred = np.random.binomial(n=1, p=np.mean(y_train), size=330)\n",
    "print(\"Mean Predictor:\\nAccuracy:\", accuracy_score(y_test, dummy_pred))\n",
    "print(\"Custom Error Score:\", my_prediction_score(dummy_pred,y_test)) # Lower prediction score is better"
   ]
  },
  {
   "cell_type": "markdown",
   "id": "f71a9b54",
   "metadata": {},
   "source": [
    "and a classifier which classifies as 'good' at the optimal threshold rate, regardless of attributes:"
   ]
  },
  {
   "cell_type": "code",
   "execution_count": 79,
   "id": "a3546e53",
   "metadata": {},
   "outputs": [
    {
     "name": "stdout",
     "output_type": "stream",
     "text": [
      "Threshold Predictor:\n",
      "Accuracy: 0.3787878787878788\n",
      "Custom Error Score: 0.8151515151515152\n"
     ]
    }
   ],
   "source": [
    "np.mean(y_train)\n",
    "thres_pred = np.random.binomial(n=1, p=1/6, size=330)\n",
    "print(\"Threshold Predictor:\\nAccuracy:\", accuracy_score(y_test, thres_pred))\n",
    "print(\"Custom Error Score:\", my_prediction_score(thres_pred,y_test)) # Lower prediction score is better"
   ]
  },
  {
   "cell_type": "markdown",
   "id": "20154d73",
   "metadata": {},
   "source": [
    "## Summary of Methods"
   ]
  },
  {
   "cell_type": "code",
   "execution_count": 80,
   "id": "b866cd08",
   "metadata": {},
   "outputs": [
    {
     "data": {
      "text/html": [
       "<div>\n",
       "<style scoped>\n",
       "    .dataframe tbody tr th:only-of-type {\n",
       "        vertical-align: middle;\n",
       "    }\n",
       "\n",
       "    .dataframe tbody tr th {\n",
       "        vertical-align: top;\n",
       "    }\n",
       "\n",
       "    .dataframe thead th {\n",
       "        text-align: right;\n",
       "    }\n",
       "</style>\n",
       "<table border=\"1\" class=\"dataframe\">\n",
       "  <thead>\n",
       "    <tr style=\"text-align: right;\">\n",
       "      <th></th>\n",
       "      <th>Logit</th>\n",
       "      <th>Ridge</th>\n",
       "      <th>Bayesian Logit</th>\n",
       "      <th>LDA</th>\n",
       "      <th>Naive Bayes</th>\n",
       "      <th>GP</th>\n",
       "      <th>SVM</th>\n",
       "      <th>Mean</th>\n",
       "      <th>Threshold</th>\n",
       "    </tr>\n",
       "  </thead>\n",
       "  <tbody>\n",
       "    <tr>\n",
       "      <th>Error Score</th>\n",
       "      <td>0.618182</td>\n",
       "      <td>0.654545</td>\n",
       "      <td>0.630303</td>\n",
       "      <td>0.621212</td>\n",
       "      <td>0.645455</td>\n",
       "      <td>0.693939</td>\n",
       "      <td>0.709091</td>\n",
       "      <td>1.209091</td>\n",
       "      <td>0.815152</td>\n",
       "    </tr>\n",
       "  </tbody>\n",
       "</table>\n",
       "</div>"
      ],
      "text/plain": [
       "                Logit     Ridge  Bayesian Logit       LDA  Naive Bayes  \\\n",
       "Error Score  0.618182  0.654545        0.630303  0.621212     0.645455   \n",
       "\n",
       "                   GP       SVM      Mean  Threshold  \n",
       "Error Score  0.693939  0.709091  1.209091   0.815152  "
      ]
     },
     "execution_count": 80,
     "metadata": {},
     "output_type": "execute_result"
    }
   ],
   "source": [
    "methods = [logit_pred, ridge_pred, blr_pred, lda_pred, nb_pred, gp_pred, svm_pred, dummy_pred, thres_pred]\n",
    "results = []\n",
    "\n",
    "# Calculate the prediction score for each model\n",
    "for i in range(len(methods)):\n",
    "    results.append(my_prediction_score(methods[i], y_test))\n",
    "\n",
    "# Column names (models)\n",
    "col = ['Logit','Ridge','Bayesian Logit','LDA', 'Naive Bayes', 'GP', 'SVM', 'Mean', 'Threshold']\n",
    "\n",
    "# Index name for error scores\n",
    "ind = ['Error Score']\n",
    "\n",
    "# Create the DataFrame with results\n",
    "results_df = pd.DataFrame([results], columns=col, index=ind)\n",
    "\n",
    "# Print the DataFrame\n",
    "results_df"
   ]
  },
  {
   "cell_type": "markdown",
   "id": "9c6900de",
   "metadata": {},
   "source": [
    "## Conclusion:\n",
    "\n",
    "The best performing model was the logistic regression. Despite being one of the simplest, it held the highest prediction accuracy as well as the lowest error score at 0.618 per prediction. It was closely followed by Linear Discriminant Analysis at 0.621 error per prediction.\n",
    "\n",
    "Notably, the mean-predictor has the highest accuracy rate at 61.8%. This is because it only tries to correctly predict the class and does not attempt to specifically reduce the false positive rate."
   ]
  }
 ],
 "metadata": {
  "kernelspec": {
   "display_name": "charlie",
   "language": "python",
   "name": "python3"
  },
  "language_info": {
   "codemirror_mode": {
    "name": "ipython",
    "version": 3
   },
   "file_extension": ".py",
   "mimetype": "text/x-python",
   "name": "python",
   "nbconvert_exporter": "python",
   "pygments_lexer": "ipython3",
   "version": "3.12.3"
  }
 },
 "nbformat": 4,
 "nbformat_minor": 5
}
